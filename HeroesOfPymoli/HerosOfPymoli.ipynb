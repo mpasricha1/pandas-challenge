{
 "cells": [
  {
   "cell_type": "code",
   "execution_count": 1,
   "metadata": {},
   "outputs": [],
   "source": [
    "# Import libraries and data file, create player DataFrame\n",
    "import pandas as pd \n",
    "\n",
    "data_file = 'Resources/purchase_data.csv'\n",
    "player_df = pd.read_csv(data_file)"
   ]
  },
  {
   "cell_type": "markdown",
   "metadata": {},
   "source": [
    "<h1><b>Player Count</b></h1>"
   ]
  },
  {
   "cell_type": "code",
   "execution_count": 2,
   "metadata": {},
   "outputs": [
    {
     "data": {
      "text/html": [
       "<div>\n",
       "<style scoped>\n",
       "    .dataframe tbody tr th:only-of-type {\n",
       "        vertical-align: middle;\n",
       "    }\n",
       "\n",
       "    .dataframe tbody tr th {\n",
       "        vertical-align: top;\n",
       "    }\n",
       "\n",
       "    .dataframe thead th {\n",
       "        text-align: right;\n",
       "    }\n",
       "</style>\n",
       "<table border=\"1\" class=\"dataframe\">\n",
       "  <thead>\n",
       "    <tr style=\"text-align: right;\">\n",
       "      <th></th>\n",
       "      <th>Total Number of Players</th>\n",
       "    </tr>\n",
       "  </thead>\n",
       "  <tbody>\n",
       "    <tr>\n",
       "      <th>0</th>\n",
       "      <td>576</td>\n",
       "    </tr>\n",
       "  </tbody>\n",
       "</table>\n",
       "</div>"
      ],
      "text/plain": [
       "   Total Number of Players\n",
       "0                      576"
      ]
     },
     "execution_count": 2,
     "metadata": {},
     "output_type": "execute_result"
    }
   ],
   "source": [
    "#Get unique players and put it in a new Data Frame\n",
    "totalPlayers = len(player_df[\"SN\"].unique())\n",
    "printTotalPlayer = pd.DataFrame({\"Total Number of Players\": [totalPlayers]})\n",
    "printTotalPlayer"
   ]
  },
  {
   "cell_type": "markdown",
   "metadata": {},
   "source": [
    "<h1><b>Purchasing Analysis (Total)</b></h1>"
   ]
  },
  {
   "cell_type": "code",
   "execution_count": 3,
   "metadata": {},
   "outputs": [
    {
     "data": {
      "text/html": [
       "<style  type=\"text/css\" >\n",
       "</style><table id=\"T_5c519168_a1ff_11ea_b23f_c8348e295c0e\" ><thead>    <tr>        <th class=\"blank level0\" ></th>        <th class=\"col_heading level0 col0\" >Number of Unique Items</th>        <th class=\"col_heading level0 col1\" >Average Purchase Price</th>        <th class=\"col_heading level0 col2\" >Total Number of Purchases</th>        <th class=\"col_heading level0 col3\" >Total Revenue</th>    </tr></thead><tbody>\n",
       "                <tr>\n",
       "                        <th id=\"T_5c519168_a1ff_11ea_b23f_c8348e295c0elevel0_row0\" class=\"row_heading level0 row0\" >0</th>\n",
       "                        <td id=\"T_5c519168_a1ff_11ea_b23f_c8348e295c0erow0_col0\" class=\"data row0 col0\" >179</td>\n",
       "                        <td id=\"T_5c519168_a1ff_11ea_b23f_c8348e295c0erow0_col1\" class=\"data row0 col1\" >$3.05</td>\n",
       "                        <td id=\"T_5c519168_a1ff_11ea_b23f_c8348e295c0erow0_col2\" class=\"data row0 col2\" >780</td>\n",
       "                        <td id=\"T_5c519168_a1ff_11ea_b23f_c8348e295c0erow0_col3\" class=\"data row0 col3\" >$2,379.77</td>\n",
       "            </tr>\n",
       "    </tbody></table>"
      ],
      "text/plain": [
       "<pandas.io.formats.style.Styler at 0x27250922cc8>"
      ]
     },
     "execution_count": 3,
     "metadata": {},
     "output_type": "execute_result"
    }
   ],
   "source": [
    "#Find that stats about Purchases in game, Create new Dataframe to hold data and format\n",
    "uniqueItems = len(player_df[\"Item ID\"].unique())\n",
    "averagePurch = player_df[\"Price\"].mean()\n",
    "totalPurch = player_df[\"Purchase ID\"].count()\n",
    "totalRev = player_df[\"Price\"].sum()\n",
    "\n",
    "print_df = pd.DataFrame({\"Number of Unique Items\": [uniqueItems],\"Average Purchase Price\": [averagePurch], \n",
    "                         \"Total Number of Purchases\": [totalPurch], \"Total Revenue\": [totalRev]})\n",
    "print_df.style.format({'Average Purchase Price': \"${:,.2f}\",\n",
    "                       \"Total Revenue\": \"${:,.2f}\"})"
   ]
  },
  {
   "cell_type": "markdown",
   "metadata": {},
   "source": [
    "<h1><b>Gender Demographics</b></h1>"
   ]
  },
  {
   "cell_type": "code",
   "execution_count": 4,
   "metadata": {},
   "outputs": [
    {
     "data": {
      "text/html": [
       "<style  type=\"text/css\" >\n",
       "</style><table id=\"T_5e3c3e18_a1ff_11ea_9465_c8348e295c0e\" ><thead>    <tr>        <th class=\"blank level0\" ></th>        <th class=\"col_heading level0 col0\" >Total Count</th>        <th class=\"col_heading level0 col1\" >Player Percentage</th>    </tr>    <tr>        <th class=\"index_name level0\" >Gender</th>        <th class=\"blank\" ></th>        <th class=\"blank\" ></th>    </tr></thead><tbody>\n",
       "                <tr>\n",
       "                        <th id=\"T_5e3c3e18_a1ff_11ea_9465_c8348e295c0elevel0_row0\" class=\"row_heading level0 row0\" >Female</th>\n",
       "                        <td id=\"T_5e3c3e18_a1ff_11ea_9465_c8348e295c0erow0_col0\" class=\"data row0 col0\" >81</td>\n",
       "                        <td id=\"T_5e3c3e18_a1ff_11ea_9465_c8348e295c0erow0_col1\" class=\"data row0 col1\" >14.06%</td>\n",
       "            </tr>\n",
       "            <tr>\n",
       "                        <th id=\"T_5e3c3e18_a1ff_11ea_9465_c8348e295c0elevel0_row1\" class=\"row_heading level0 row1\" >Male</th>\n",
       "                        <td id=\"T_5e3c3e18_a1ff_11ea_9465_c8348e295c0erow1_col0\" class=\"data row1 col0\" >484</td>\n",
       "                        <td id=\"T_5e3c3e18_a1ff_11ea_9465_c8348e295c0erow1_col1\" class=\"data row1 col1\" >84.03%</td>\n",
       "            </tr>\n",
       "            <tr>\n",
       "                        <th id=\"T_5e3c3e18_a1ff_11ea_9465_c8348e295c0elevel0_row2\" class=\"row_heading level0 row2\" >Other / Non-Disclosed</th>\n",
       "                        <td id=\"T_5e3c3e18_a1ff_11ea_9465_c8348e295c0erow2_col0\" class=\"data row2 col0\" >11</td>\n",
       "                        <td id=\"T_5e3c3e18_a1ff_11ea_9465_c8348e295c0erow2_col1\" class=\"data row2 col1\" >1.91%</td>\n",
       "            </tr>\n",
       "    </tbody></table>"
      ],
      "text/plain": [
       "<pandas.io.formats.style.Styler at 0x27250d2c388>"
      ]
     },
     "execution_count": 4,
     "metadata": {},
     "output_type": "execute_result"
    }
   ],
   "source": [
    "#Find that stats about players gender in game, Create new Dataframe to hold data and format\n",
    "genderBreakdown = player_df.groupby(\"Gender\")\n",
    "totalGenderCount = genderBreakdown.nunique()[\"SN\"]\n",
    "playerPercent = totalGenderCount / totalPlayers * 100\n",
    "\n",
    "printGender_df = pd.DataFrame({\"Total Count\" : totalGenderCount,\"Player Percentage\": playerPercent })\n",
    "printGender_df.style.format({\"Player Percentage\" : \"{:.2f}%\"})\n"
   ]
  },
  {
   "cell_type": "markdown",
   "metadata": {},
   "source": [
    "<h1><b>Purchasing Analysis (Gender)</b></h1>"
   ]
  },
  {
   "cell_type": "code",
   "execution_count": 5,
   "metadata": {},
   "outputs": [
    {
     "data": {
      "text/html": [
       "<style  type=\"text/css\" >\n",
       "</style><table id=\"T_6035c052_a1ff_11ea_80b7_c8348e295c0e\" ><thead>    <tr>        <th class=\"blank level0\" ></th>        <th class=\"col_heading level0 col0\" >Purchase Count</th>        <th class=\"col_heading level0 col1\" >Average Purchase Price</th>        <th class=\"col_heading level0 col2\" >Total Purchase Value</th>        <th class=\"col_heading level0 col3\" >Average Purchase Total per Person</th>    </tr>    <tr>        <th class=\"index_name level0\" >Gender</th>        <th class=\"blank\" ></th>        <th class=\"blank\" ></th>        <th class=\"blank\" ></th>        <th class=\"blank\" ></th>    </tr></thead><tbody>\n",
       "                <tr>\n",
       "                        <th id=\"T_6035c052_a1ff_11ea_80b7_c8348e295c0elevel0_row0\" class=\"row_heading level0 row0\" >Female</th>\n",
       "                        <td id=\"T_6035c052_a1ff_11ea_80b7_c8348e295c0erow0_col0\" class=\"data row0 col0\" >113</td>\n",
       "                        <td id=\"T_6035c052_a1ff_11ea_80b7_c8348e295c0erow0_col1\" class=\"data row0 col1\" >$3.20</td>\n",
       "                        <td id=\"T_6035c052_a1ff_11ea_80b7_c8348e295c0erow0_col2\" class=\"data row0 col2\" >$361.94</td>\n",
       "                        <td id=\"T_6035c052_a1ff_11ea_80b7_c8348e295c0erow0_col3\" class=\"data row0 col3\" >$4.47</td>\n",
       "            </tr>\n",
       "            <tr>\n",
       "                        <th id=\"T_6035c052_a1ff_11ea_80b7_c8348e295c0elevel0_row1\" class=\"row_heading level0 row1\" >Male</th>\n",
       "                        <td id=\"T_6035c052_a1ff_11ea_80b7_c8348e295c0erow1_col0\" class=\"data row1 col0\" >652</td>\n",
       "                        <td id=\"T_6035c052_a1ff_11ea_80b7_c8348e295c0erow1_col1\" class=\"data row1 col1\" >$3.02</td>\n",
       "                        <td id=\"T_6035c052_a1ff_11ea_80b7_c8348e295c0erow1_col2\" class=\"data row1 col2\" >$1,967.64</td>\n",
       "                        <td id=\"T_6035c052_a1ff_11ea_80b7_c8348e295c0erow1_col3\" class=\"data row1 col3\" >$4.07</td>\n",
       "            </tr>\n",
       "            <tr>\n",
       "                        <th id=\"T_6035c052_a1ff_11ea_80b7_c8348e295c0elevel0_row2\" class=\"row_heading level0 row2\" >Other / Non-Disclosed</th>\n",
       "                        <td id=\"T_6035c052_a1ff_11ea_80b7_c8348e295c0erow2_col0\" class=\"data row2 col0\" >15</td>\n",
       "                        <td id=\"T_6035c052_a1ff_11ea_80b7_c8348e295c0erow2_col1\" class=\"data row2 col1\" >$3.35</td>\n",
       "                        <td id=\"T_6035c052_a1ff_11ea_80b7_c8348e295c0erow2_col2\" class=\"data row2 col2\" >$50.19</td>\n",
       "                        <td id=\"T_6035c052_a1ff_11ea_80b7_c8348e295c0erow2_col3\" class=\"data row2 col3\" >$4.56</td>\n",
       "            </tr>\n",
       "    </tbody></table>"
      ],
      "text/plain": [
       "<pandas.io.formats.style.Styler at 0x27251770948>"
      ]
     },
     "execution_count": 5,
     "metadata": {},
     "output_type": "execute_result"
    }
   ],
   "source": [
    "#Analyis perchases by gender, \n",
    "totalCountGender = genderBreakdown[\"Purchase ID\"].count()\n",
    "avgPurchPriceGender = genderBreakdown[\"Price\"].mean()\n",
    "totalPurchaseGender = genderBreakdown[\"Price\"].sum() \n",
    "avgPerPlayerGender = totalPurchaseGender/totalGenderCount\n",
    "\n",
    "printGenPurch_df = pd.DataFrame({\"Purchase Count\" : totalCountGender, \"Average Purchase Price\" : avgPurchPriceGender,\n",
    "                                  \"Total Purchase Value\" : totalPurchaseGender, \"Average Purchase Total per Person\": avgPerPlayerGender}\n",
    "                               )\n",
    "printGenPurch_df.style.format({\"Average Purchase Price\": \"${:,.2f}\",\n",
    "                               \"Total Purchase Value\": \"${:,.2f}\",\n",
    "                               \"Average Purchase Total per Person\": \"${:,.2f}\"})\n"
   ]
  },
  {
   "cell_type": "markdown",
   "metadata": {},
   "source": [
    "<h1><b>Age Demographics</b></h1>"
   ]
  },
  {
   "cell_type": "code",
   "execution_count": 6,
   "metadata": {},
   "outputs": [
    {
     "data": {
      "text/html": [
       "<style  type=\"text/css\" >\n",
       "</style><table id=\"T_61879d9c_a1ff_11ea_9d37_c8348e295c0e\" ><thead>    <tr>        <th class=\"blank level0\" ></th>        <th class=\"col_heading level0 col0\" >Total Count</th>        <th class=\"col_heading level0 col1\" >Percentage of Players</th>    </tr>    <tr>        <th class=\"index_name level0\" >Age Range</th>        <th class=\"blank\" ></th>        <th class=\"blank\" ></th>    </tr></thead><tbody>\n",
       "                <tr>\n",
       "                        <th id=\"T_61879d9c_a1ff_11ea_9d37_c8348e295c0elevel0_row0\" class=\"row_heading level0 row0\" >Less than 10</th>\n",
       "                        <td id=\"T_61879d9c_a1ff_11ea_9d37_c8348e295c0erow0_col0\" class=\"data row0 col0\" >17</td>\n",
       "                        <td id=\"T_61879d9c_a1ff_11ea_9d37_c8348e295c0erow0_col1\" class=\"data row0 col1\" >2.95%</td>\n",
       "            </tr>\n",
       "            <tr>\n",
       "                        <th id=\"T_61879d9c_a1ff_11ea_9d37_c8348e295c0elevel0_row1\" class=\"row_heading level0 row1\" >10-14</th>\n",
       "                        <td id=\"T_61879d9c_a1ff_11ea_9d37_c8348e295c0erow1_col0\" class=\"data row1 col0\" >22</td>\n",
       "                        <td id=\"T_61879d9c_a1ff_11ea_9d37_c8348e295c0erow1_col1\" class=\"data row1 col1\" >3.82%</td>\n",
       "            </tr>\n",
       "            <tr>\n",
       "                        <th id=\"T_61879d9c_a1ff_11ea_9d37_c8348e295c0elevel0_row2\" class=\"row_heading level0 row2\" >15-19</th>\n",
       "                        <td id=\"T_61879d9c_a1ff_11ea_9d37_c8348e295c0erow2_col0\" class=\"data row2 col0\" >107</td>\n",
       "                        <td id=\"T_61879d9c_a1ff_11ea_9d37_c8348e295c0erow2_col1\" class=\"data row2 col1\" >18.58%</td>\n",
       "            </tr>\n",
       "            <tr>\n",
       "                        <th id=\"T_61879d9c_a1ff_11ea_9d37_c8348e295c0elevel0_row3\" class=\"row_heading level0 row3\" >20-24</th>\n",
       "                        <td id=\"T_61879d9c_a1ff_11ea_9d37_c8348e295c0erow3_col0\" class=\"data row3 col0\" >258</td>\n",
       "                        <td id=\"T_61879d9c_a1ff_11ea_9d37_c8348e295c0erow3_col1\" class=\"data row3 col1\" >44.79%</td>\n",
       "            </tr>\n",
       "            <tr>\n",
       "                        <th id=\"T_61879d9c_a1ff_11ea_9d37_c8348e295c0elevel0_row4\" class=\"row_heading level0 row4\" >25-29</th>\n",
       "                        <td id=\"T_61879d9c_a1ff_11ea_9d37_c8348e295c0erow4_col0\" class=\"data row4 col0\" >77</td>\n",
       "                        <td id=\"T_61879d9c_a1ff_11ea_9d37_c8348e295c0erow4_col1\" class=\"data row4 col1\" >13.37%</td>\n",
       "            </tr>\n",
       "            <tr>\n",
       "                        <th id=\"T_61879d9c_a1ff_11ea_9d37_c8348e295c0elevel0_row5\" class=\"row_heading level0 row5\" >30-34</th>\n",
       "                        <td id=\"T_61879d9c_a1ff_11ea_9d37_c8348e295c0erow5_col0\" class=\"data row5 col0\" >52</td>\n",
       "                        <td id=\"T_61879d9c_a1ff_11ea_9d37_c8348e295c0erow5_col1\" class=\"data row5 col1\" >9.03%</td>\n",
       "            </tr>\n",
       "            <tr>\n",
       "                        <th id=\"T_61879d9c_a1ff_11ea_9d37_c8348e295c0elevel0_row6\" class=\"row_heading level0 row6\" >35-40</th>\n",
       "                        <td id=\"T_61879d9c_a1ff_11ea_9d37_c8348e295c0erow6_col0\" class=\"data row6 col0\" >31</td>\n",
       "                        <td id=\"T_61879d9c_a1ff_11ea_9d37_c8348e295c0erow6_col1\" class=\"data row6 col1\" >5.38%</td>\n",
       "            </tr>\n",
       "            <tr>\n",
       "                        <th id=\"T_61879d9c_a1ff_11ea_9d37_c8348e295c0elevel0_row7\" class=\"row_heading level0 row7\" >40+</th>\n",
       "                        <td id=\"T_61879d9c_a1ff_11ea_9d37_c8348e295c0erow7_col0\" class=\"data row7 col0\" >12</td>\n",
       "                        <td id=\"T_61879d9c_a1ff_11ea_9d37_c8348e295c0erow7_col1\" class=\"data row7 col1\" >2.08%</td>\n",
       "            </tr>\n",
       "    </tbody></table>"
      ],
      "text/plain": [
       "<pandas.io.formats.style.Styler at 0x27251770ec8>"
      ]
     },
     "execution_count": 6,
     "metadata": {},
     "output_type": "execute_result"
    }
   ],
   "source": [
    "#Create age bins, break up by total count and percentage\n",
    "bin_labels = [\"Less than 10\", \"10-14\", \"15-19\", \"20-24\", \"25-29\", \"30-34\", \"35-40\", \"40+\"]\n",
    "bins = [0,9.99,14.99,19.99,24.99,29.99,34.99,39.99,200]\n",
    "player_df[\"Age Range\"] = pd.cut(player_df['Age'], bins=bins, labels = bin_labels)\n",
    "\n",
    "ageRange = player_df.groupby(\"Age Range\")\n",
    "totalAgeCount = ageRange.nunique()[\"SN\"]\n",
    "percentAge = totalAgeCount/totalPlayers * 100\n",
    "\n",
    "printAgeStats_df = pd.DataFrame({\"Total Count\" : totalAgeCount, \"Percentage of Players\" : percentAge})\n",
    "printAgeStats_df.style.format({\"Percentage of Players\": \"{:.2f}%\"})"
   ]
  },
  {
   "cell_type": "markdown",
   "metadata": {},
   "source": [
    "<h1><b>Purchasing Analysis (Age)</b></h1>"
   ]
  },
  {
   "cell_type": "code",
   "execution_count": 7,
   "metadata": {},
   "outputs": [
    {
     "name": "stdout",
     "output_type": "stream",
     "text": [
      "### Age Demographics\n"
     ]
    },
    {
     "data": {
      "text/html": [
       "<style  type=\"text/css\" >\n",
       "</style><table id=\"T_62c4641e_a1ff_11ea_8f9e_c8348e295c0e\" ><thead>    <tr>        <th class=\"blank level0\" ></th>        <th class=\"col_heading level0 col0\" >Purchase Count</th>        <th class=\"col_heading level0 col1\" >Average Purchase Price</th>        <th class=\"col_heading level0 col2\" >Total Purchase Value</th>        <th class=\"col_heading level0 col3\" >Average Purchase Total per Person</th>    </tr>    <tr>        <th class=\"index_name level0\" >Age Range</th>        <th class=\"blank\" ></th>        <th class=\"blank\" ></th>        <th class=\"blank\" ></th>        <th class=\"blank\" ></th>    </tr></thead><tbody>\n",
       "                <tr>\n",
       "                        <th id=\"T_62c4641e_a1ff_11ea_8f9e_c8348e295c0elevel0_row0\" class=\"row_heading level0 row0\" >Less than 10</th>\n",
       "                        <td id=\"T_62c4641e_a1ff_11ea_8f9e_c8348e295c0erow0_col0\" class=\"data row0 col0\" >23</td>\n",
       "                        <td id=\"T_62c4641e_a1ff_11ea_8f9e_c8348e295c0erow0_col1\" class=\"data row0 col1\" >$3.35</td>\n",
       "                        <td id=\"T_62c4641e_a1ff_11ea_8f9e_c8348e295c0erow0_col2\" class=\"data row0 col2\" >$77.13</td>\n",
       "                        <td id=\"T_62c4641e_a1ff_11ea_8f9e_c8348e295c0erow0_col3\" class=\"data row0 col3\" >$4.54</td>\n",
       "            </tr>\n",
       "            <tr>\n",
       "                        <th id=\"T_62c4641e_a1ff_11ea_8f9e_c8348e295c0elevel0_row1\" class=\"row_heading level0 row1\" >10-14</th>\n",
       "                        <td id=\"T_62c4641e_a1ff_11ea_8f9e_c8348e295c0erow1_col0\" class=\"data row1 col0\" >28</td>\n",
       "                        <td id=\"T_62c4641e_a1ff_11ea_8f9e_c8348e295c0erow1_col1\" class=\"data row1 col1\" >$2.96</td>\n",
       "                        <td id=\"T_62c4641e_a1ff_11ea_8f9e_c8348e295c0erow1_col2\" class=\"data row1 col2\" >$82.78</td>\n",
       "                        <td id=\"T_62c4641e_a1ff_11ea_8f9e_c8348e295c0erow1_col3\" class=\"data row1 col3\" >$3.76</td>\n",
       "            </tr>\n",
       "            <tr>\n",
       "                        <th id=\"T_62c4641e_a1ff_11ea_8f9e_c8348e295c0elevel0_row2\" class=\"row_heading level0 row2\" >15-19</th>\n",
       "                        <td id=\"T_62c4641e_a1ff_11ea_8f9e_c8348e295c0erow2_col0\" class=\"data row2 col0\" >136</td>\n",
       "                        <td id=\"T_62c4641e_a1ff_11ea_8f9e_c8348e295c0erow2_col1\" class=\"data row2 col1\" >$3.04</td>\n",
       "                        <td id=\"T_62c4641e_a1ff_11ea_8f9e_c8348e295c0erow2_col2\" class=\"data row2 col2\" >$412.89</td>\n",
       "                        <td id=\"T_62c4641e_a1ff_11ea_8f9e_c8348e295c0erow2_col3\" class=\"data row2 col3\" >$3.86</td>\n",
       "            </tr>\n",
       "            <tr>\n",
       "                        <th id=\"T_62c4641e_a1ff_11ea_8f9e_c8348e295c0elevel0_row3\" class=\"row_heading level0 row3\" >20-24</th>\n",
       "                        <td id=\"T_62c4641e_a1ff_11ea_8f9e_c8348e295c0erow3_col0\" class=\"data row3 col0\" >365</td>\n",
       "                        <td id=\"T_62c4641e_a1ff_11ea_8f9e_c8348e295c0erow3_col1\" class=\"data row3 col1\" >$3.05</td>\n",
       "                        <td id=\"T_62c4641e_a1ff_11ea_8f9e_c8348e295c0erow3_col2\" class=\"data row3 col2\" >$1,114.06</td>\n",
       "                        <td id=\"T_62c4641e_a1ff_11ea_8f9e_c8348e295c0erow3_col3\" class=\"data row3 col3\" >$4.32</td>\n",
       "            </tr>\n",
       "            <tr>\n",
       "                        <th id=\"T_62c4641e_a1ff_11ea_8f9e_c8348e295c0elevel0_row4\" class=\"row_heading level0 row4\" >25-29</th>\n",
       "                        <td id=\"T_62c4641e_a1ff_11ea_8f9e_c8348e295c0erow4_col0\" class=\"data row4 col0\" >101</td>\n",
       "                        <td id=\"T_62c4641e_a1ff_11ea_8f9e_c8348e295c0erow4_col1\" class=\"data row4 col1\" >$2.90</td>\n",
       "                        <td id=\"T_62c4641e_a1ff_11ea_8f9e_c8348e295c0erow4_col2\" class=\"data row4 col2\" >$293.00</td>\n",
       "                        <td id=\"T_62c4641e_a1ff_11ea_8f9e_c8348e295c0erow4_col3\" class=\"data row4 col3\" >$3.81</td>\n",
       "            </tr>\n",
       "            <tr>\n",
       "                        <th id=\"T_62c4641e_a1ff_11ea_8f9e_c8348e295c0elevel0_row5\" class=\"row_heading level0 row5\" >30-34</th>\n",
       "                        <td id=\"T_62c4641e_a1ff_11ea_8f9e_c8348e295c0erow5_col0\" class=\"data row5 col0\" >73</td>\n",
       "                        <td id=\"T_62c4641e_a1ff_11ea_8f9e_c8348e295c0erow5_col1\" class=\"data row5 col1\" >$2.93</td>\n",
       "                        <td id=\"T_62c4641e_a1ff_11ea_8f9e_c8348e295c0erow5_col2\" class=\"data row5 col2\" >$214.00</td>\n",
       "                        <td id=\"T_62c4641e_a1ff_11ea_8f9e_c8348e295c0erow5_col3\" class=\"data row5 col3\" >$4.12</td>\n",
       "            </tr>\n",
       "            <tr>\n",
       "                        <th id=\"T_62c4641e_a1ff_11ea_8f9e_c8348e295c0elevel0_row6\" class=\"row_heading level0 row6\" >35-40</th>\n",
       "                        <td id=\"T_62c4641e_a1ff_11ea_8f9e_c8348e295c0erow6_col0\" class=\"data row6 col0\" >41</td>\n",
       "                        <td id=\"T_62c4641e_a1ff_11ea_8f9e_c8348e295c0erow6_col1\" class=\"data row6 col1\" >$3.60</td>\n",
       "                        <td id=\"T_62c4641e_a1ff_11ea_8f9e_c8348e295c0erow6_col2\" class=\"data row6 col2\" >$147.67</td>\n",
       "                        <td id=\"T_62c4641e_a1ff_11ea_8f9e_c8348e295c0erow6_col3\" class=\"data row6 col3\" >$4.76</td>\n",
       "            </tr>\n",
       "            <tr>\n",
       "                        <th id=\"T_62c4641e_a1ff_11ea_8f9e_c8348e295c0elevel0_row7\" class=\"row_heading level0 row7\" >40+</th>\n",
       "                        <td id=\"T_62c4641e_a1ff_11ea_8f9e_c8348e295c0erow7_col0\" class=\"data row7 col0\" >13</td>\n",
       "                        <td id=\"T_62c4641e_a1ff_11ea_8f9e_c8348e295c0erow7_col1\" class=\"data row7 col1\" >$2.94</td>\n",
       "                        <td id=\"T_62c4641e_a1ff_11ea_8f9e_c8348e295c0erow7_col2\" class=\"data row7 col2\" >$38.24</td>\n",
       "                        <td id=\"T_62c4641e_a1ff_11ea_8f9e_c8348e295c0erow7_col3\" class=\"data row7 col3\" >$3.19</td>\n",
       "            </tr>\n",
       "    </tbody></table>"
      ],
      "text/plain": [
       "<pandas.io.formats.style.Styler at 0x27251777688>"
      ]
     },
     "execution_count": 7,
     "metadata": {},
     "output_type": "execute_result"
    }
   ],
   "source": [
    "#Using bins from above break down purchase data\n",
    "totalCountAge = ageRange[\"Purchase ID\"].count()\n",
    "avgPurchPriceAge = ageRange[\"Price\"].mean()\n",
    "totalPurchAge = ageRange[\"Price\"].sum() \n",
    "avgPerPersonAge = totalPurchAge/totalAgeCount\n",
    "\n",
    "printAge_df = pd.DataFrame({\"Purchase Count\" : totalCountAge, \"Average Purchase Price\" : avgPurchPriceAge,\n",
    "                            \"Total Purchase Value\" : totalPurchAge, \"Average Purchase Total per Person\": avgPerPersonAge}\n",
    "                          )\n",
    "print(\"### Age Demographics\")\n",
    "printAge_df.style.format({\"Average Purchase Price\": \"${:,.2f}\",\n",
    "                          \"Total Purchase Value\": \"${:,.2f}\",\n",
    "                          \"Average Purchase Total per Person\": \"${:,.2f}\"})"
   ]
  },
  {
   "cell_type": "markdown",
   "metadata": {},
   "source": [
    "<h1><b>Top Spenders</b></h1>"
   ]
  },
  {
   "cell_type": "code",
   "execution_count": 18,
   "metadata": {},
   "outputs": [
    {
     "data": {
      "text/html": [
       "<style  type=\"text/css\" >\n",
       "</style><table id=\"T_dff7b16e_a201_11ea_941e_c8348e295c0e\" ><thead>    <tr>        <th class=\"blank level0\" ></th>        <th class=\"col_heading level0 col0\" >Purchase Count</th>        <th class=\"col_heading level0 col1\" >Average Purchase Price</th>        <th class=\"col_heading level0 col2\" >Total Purchase Value</th>    </tr>    <tr>        <th class=\"index_name level0\" >SN</th>        <th class=\"blank\" ></th>        <th class=\"blank\" ></th>        <th class=\"blank\" ></th>    </tr></thead><tbody>\n",
       "                <tr>\n",
       "                        <th id=\"T_dff7b16e_a201_11ea_941e_c8348e295c0elevel0_row0\" class=\"row_heading level0 row0\" >Lisosia93</th>\n",
       "                        <td id=\"T_dff7b16e_a201_11ea_941e_c8348e295c0erow0_col0\" class=\"data row0 col0\" >18.96</td>\n",
       "                        <td id=\"T_dff7b16e_a201_11ea_941e_c8348e295c0erow0_col1\" class=\"data row0 col1\" >$3.79</td>\n",
       "                        <td id=\"T_dff7b16e_a201_11ea_941e_c8348e295c0erow0_col2\" class=\"data row0 col2\" >$18.96</td>\n",
       "            </tr>\n",
       "            <tr>\n",
       "                        <th id=\"T_dff7b16e_a201_11ea_941e_c8348e295c0elevel0_row1\" class=\"row_heading level0 row1\" >Idastidru52</th>\n",
       "                        <td id=\"T_dff7b16e_a201_11ea_941e_c8348e295c0erow1_col0\" class=\"data row1 col0\" >15.45</td>\n",
       "                        <td id=\"T_dff7b16e_a201_11ea_941e_c8348e295c0erow1_col1\" class=\"data row1 col1\" >$3.86</td>\n",
       "                        <td id=\"T_dff7b16e_a201_11ea_941e_c8348e295c0erow1_col2\" class=\"data row1 col2\" >$15.45</td>\n",
       "            </tr>\n",
       "            <tr>\n",
       "                        <th id=\"T_dff7b16e_a201_11ea_941e_c8348e295c0elevel0_row2\" class=\"row_heading level0 row2\" >Chamjask73</th>\n",
       "                        <td id=\"T_dff7b16e_a201_11ea_941e_c8348e295c0erow2_col0\" class=\"data row2 col0\" >13.83</td>\n",
       "                        <td id=\"T_dff7b16e_a201_11ea_941e_c8348e295c0erow2_col1\" class=\"data row2 col1\" >$4.61</td>\n",
       "                        <td id=\"T_dff7b16e_a201_11ea_941e_c8348e295c0erow2_col2\" class=\"data row2 col2\" >$13.83</td>\n",
       "            </tr>\n",
       "            <tr>\n",
       "                        <th id=\"T_dff7b16e_a201_11ea_941e_c8348e295c0elevel0_row3\" class=\"row_heading level0 row3\" >Iral74</th>\n",
       "                        <td id=\"T_dff7b16e_a201_11ea_941e_c8348e295c0erow3_col0\" class=\"data row3 col0\" >13.62</td>\n",
       "                        <td id=\"T_dff7b16e_a201_11ea_941e_c8348e295c0erow3_col1\" class=\"data row3 col1\" >$3.40</td>\n",
       "                        <td id=\"T_dff7b16e_a201_11ea_941e_c8348e295c0erow3_col2\" class=\"data row3 col2\" >$13.62</td>\n",
       "            </tr>\n",
       "            <tr>\n",
       "                        <th id=\"T_dff7b16e_a201_11ea_941e_c8348e295c0elevel0_row4\" class=\"row_heading level0 row4\" >Iskadarya95</th>\n",
       "                        <td id=\"T_dff7b16e_a201_11ea_941e_c8348e295c0erow4_col0\" class=\"data row4 col0\" >13.10</td>\n",
       "                        <td id=\"T_dff7b16e_a201_11ea_941e_c8348e295c0erow4_col1\" class=\"data row4 col1\" >$4.37</td>\n",
       "                        <td id=\"T_dff7b16e_a201_11ea_941e_c8348e295c0erow4_col2\" class=\"data row4 col2\" >$13.10</td>\n",
       "            </tr>\n",
       "    </tbody></table>"
      ],
      "text/plain": [
       "<pandas.io.formats.style.Styler at 0x27251793848>"
      ]
     },
     "execution_count": 18,
     "metadata": {},
     "output_type": "execute_result"
    }
   ],
   "source": [
    "#Find top spenders and break down purchase count, avg purchase and total value\n",
    "topSpenders = player_df.groupby(\"SN\")\n",
    "totalPerPerson = topSpenders[\"Purchase ID\"].count()\n",
    "avgPerPerson = topSpenders[\"Price\"].mean()\n",
    "totalPerPerson = topSpenders[\"Price\"].sum()\n",
    "\n",
    "printTopSpender_df = pd.DataFrame({\"Purchase Count\" : totalPerPerson, \"Average Purchase Price\" : avgPerPerson,\n",
    "                                    \"Total Purchase Value\" : totalPerPerson})\n",
    "top5 = printTopSpender_df.sort_values([\"Total Purchase Value\"], ascending=False).head()\n",
    "top5.style.format({\"Average Purchase Price\": \"${:,.2f}\",\n",
    "                    \"Total Purchase Value\": \"${:,.2f}\",\n",
    "                    \"Purchase Count\": \"{:,.2f}\"})"
   ]
  },
  {
   "cell_type": "markdown",
   "metadata": {},
   "source": [
    "<h1><b>Most Popular Items</b></h1>"
   ]
  },
  {
   "cell_type": "code",
   "execution_count": 13,
   "metadata": {},
   "outputs": [
    {
     "data": {
      "text/html": [
       "<style  type=\"text/css\" >\n",
       "</style><table id=\"T_c392a8ee_a200_11ea_87bd_c8348e295c0e\" ><thead>    <tr>        <th class=\"blank\" ></th>        <th class=\"blank level0\" ></th>        <th class=\"col_heading level0 col0\" >Purchase Count</th>        <th class=\"col_heading level0 col1\" >Item Price</th>        <th class=\"col_heading level0 col2\" >Total Value</th>    </tr>    <tr>        <th class=\"index_name level0\" >Item ID</th>        <th class=\"index_name level1\" >Item Name</th>        <th class=\"blank\" ></th>        <th class=\"blank\" ></th>        <th class=\"blank\" ></th>    </tr></thead><tbody>\n",
       "                <tr>\n",
       "                        <th id=\"T_c392a8ee_a200_11ea_87bd_c8348e295c0elevel0_row0\" class=\"row_heading level0 row0\" >92</th>\n",
       "                        <th id=\"T_c392a8ee_a200_11ea_87bd_c8348e295c0elevel1_row0\" class=\"row_heading level1 row0\" >Final Critic</th>\n",
       "                        <td id=\"T_c392a8ee_a200_11ea_87bd_c8348e295c0erow0_col0\" class=\"data row0 col0\" >13</td>\n",
       "                        <td id=\"T_c392a8ee_a200_11ea_87bd_c8348e295c0erow0_col1\" class=\"data row0 col1\" >$4.61</td>\n",
       "                        <td id=\"T_c392a8ee_a200_11ea_87bd_c8348e295c0erow0_col2\" class=\"data row0 col2\" >$59.99</td>\n",
       "            </tr>\n",
       "            <tr>\n",
       "                        <th id=\"T_c392a8ee_a200_11ea_87bd_c8348e295c0elevel0_row1\" class=\"row_heading level0 row1\" >178</th>\n",
       "                        <th id=\"T_c392a8ee_a200_11ea_87bd_c8348e295c0elevel1_row1\" class=\"row_heading level1 row1\" >Oathbreaker, Last Hope of the Breaking Storm</th>\n",
       "                        <td id=\"T_c392a8ee_a200_11ea_87bd_c8348e295c0erow1_col0\" class=\"data row1 col0\" >12</td>\n",
       "                        <td id=\"T_c392a8ee_a200_11ea_87bd_c8348e295c0erow1_col1\" class=\"data row1 col1\" >$4.23</td>\n",
       "                        <td id=\"T_c392a8ee_a200_11ea_87bd_c8348e295c0erow1_col2\" class=\"data row1 col2\" >$50.76</td>\n",
       "            </tr>\n",
       "            <tr>\n",
       "                        <th id=\"T_c392a8ee_a200_11ea_87bd_c8348e295c0elevel0_row2\" class=\"row_heading level0 row2\" >145</th>\n",
       "                        <th id=\"T_c392a8ee_a200_11ea_87bd_c8348e295c0elevel1_row2\" class=\"row_heading level1 row2\" >Fiery Glass Crusader</th>\n",
       "                        <td id=\"T_c392a8ee_a200_11ea_87bd_c8348e295c0erow2_col0\" class=\"data row2 col0\" >9</td>\n",
       "                        <td id=\"T_c392a8ee_a200_11ea_87bd_c8348e295c0erow2_col1\" class=\"data row2 col1\" >$4.58</td>\n",
       "                        <td id=\"T_c392a8ee_a200_11ea_87bd_c8348e295c0erow2_col2\" class=\"data row2 col2\" >$41.22</td>\n",
       "            </tr>\n",
       "            <tr>\n",
       "                        <th id=\"T_c392a8ee_a200_11ea_87bd_c8348e295c0elevel0_row3\" class=\"row_heading level0 row3\" >132</th>\n",
       "                        <th id=\"T_c392a8ee_a200_11ea_87bd_c8348e295c0elevel1_row3\" class=\"row_heading level1 row3\" >Persuasion</th>\n",
       "                        <td id=\"T_c392a8ee_a200_11ea_87bd_c8348e295c0erow3_col0\" class=\"data row3 col0\" >9</td>\n",
       "                        <td id=\"T_c392a8ee_a200_11ea_87bd_c8348e295c0erow3_col1\" class=\"data row3 col1\" >$3.22</td>\n",
       "                        <td id=\"T_c392a8ee_a200_11ea_87bd_c8348e295c0erow3_col2\" class=\"data row3 col2\" >$28.99</td>\n",
       "            </tr>\n",
       "            <tr>\n",
       "                        <th id=\"T_c392a8ee_a200_11ea_87bd_c8348e295c0elevel0_row4\" class=\"row_heading level0 row4\" >108</th>\n",
       "                        <th id=\"T_c392a8ee_a200_11ea_87bd_c8348e295c0elevel1_row4\" class=\"row_heading level1 row4\" >Extraction, Quickblade Of Trembling Hands</th>\n",
       "                        <td id=\"T_c392a8ee_a200_11ea_87bd_c8348e295c0erow4_col0\" class=\"data row4 col0\" >9</td>\n",
       "                        <td id=\"T_c392a8ee_a200_11ea_87bd_c8348e295c0erow4_col1\" class=\"data row4 col1\" >$3.53</td>\n",
       "                        <td id=\"T_c392a8ee_a200_11ea_87bd_c8348e295c0erow4_col2\" class=\"data row4 col2\" >$31.77</td>\n",
       "            </tr>\n",
       "    </tbody></table>"
      ],
      "text/plain": [
       "<pandas.io.formats.style.Styler at 0x27251777748>"
      ]
     },
     "execution_count": 13,
     "metadata": {},
     "output_type": "execute_result"
    }
   ],
   "source": [
    "#Find the most popular items and total Value, display top 5\n",
    "newItems = player_df[[\"Item ID\", \"Item Name\", \"Price\"]]\n",
    "groupedItems = newItems.groupby([\"Item ID\", \"Item Name\"])\n",
    "purchCount = groupedItems[\"Price\"].count()\n",
    "totalValue = (groupedItems[\"Price\"].sum())\n",
    "itemPrice = totalValue/purchCount\n",
    "\n",
    "printTopItem_df = pd.DataFrame({\"Purchase Count\" : purchCount, \"Item Price\" : itemPrice, \"Total Value\" : totalValue})\n",
    "topItems = printTopItem_df.sort_values([\"Purchase Count\"], ascending=False).head()\n",
    "topItems.style.format({\"Item Price\": \"${:,.2f}\",\n",
    "                       \"Total Value\": \"${:,.2f}\"})\n"
   ]
  },
  {
   "cell_type": "markdown",
   "metadata": {},
   "source": [
    "<h1><b>Most Profitable Items</b></h1>"
   ]
  },
  {
   "cell_type": "code",
   "execution_count": 10,
   "metadata": {},
   "outputs": [
    {
     "data": {
      "text/html": [
       "<style  type=\"text/css\" >\n",
       "</style><table id=\"T_66a47512_a1ff_11ea_bd39_c8348e295c0e\" ><thead>    <tr>        <th class=\"blank\" ></th>        <th class=\"blank level0\" ></th>        <th class=\"col_heading level0 col0\" >Purchase Count</th>        <th class=\"col_heading level0 col1\" >Item Price</th>        <th class=\"col_heading level0 col2\" >Total Value</th>    </tr>    <tr>        <th class=\"index_name level0\" >Item ID</th>        <th class=\"index_name level1\" >Item Name</th>        <th class=\"blank\" ></th>        <th class=\"blank\" ></th>        <th class=\"blank\" ></th>    </tr></thead><tbody>\n",
       "                <tr>\n",
       "                        <th id=\"T_66a47512_a1ff_11ea_bd39_c8348e295c0elevel0_row0\" class=\"row_heading level0 row0\" >92</th>\n",
       "                        <th id=\"T_66a47512_a1ff_11ea_bd39_c8348e295c0elevel1_row0\" class=\"row_heading level1 row0\" >Final Critic</th>\n",
       "                        <td id=\"T_66a47512_a1ff_11ea_bd39_c8348e295c0erow0_col0\" class=\"data row0 col0\" >13</td>\n",
       "                        <td id=\"T_66a47512_a1ff_11ea_bd39_c8348e295c0erow0_col1\" class=\"data row0 col1\" >$4.61</td>\n",
       "                        <td id=\"T_66a47512_a1ff_11ea_bd39_c8348e295c0erow0_col2\" class=\"data row0 col2\" >$59.99</td>\n",
       "            </tr>\n",
       "            <tr>\n",
       "                        <th id=\"T_66a47512_a1ff_11ea_bd39_c8348e295c0elevel0_row1\" class=\"row_heading level0 row1\" >178</th>\n",
       "                        <th id=\"T_66a47512_a1ff_11ea_bd39_c8348e295c0elevel1_row1\" class=\"row_heading level1 row1\" >Oathbreaker, Last Hope of the Breaking Storm</th>\n",
       "                        <td id=\"T_66a47512_a1ff_11ea_bd39_c8348e295c0erow1_col0\" class=\"data row1 col0\" >12</td>\n",
       "                        <td id=\"T_66a47512_a1ff_11ea_bd39_c8348e295c0erow1_col1\" class=\"data row1 col1\" >$4.23</td>\n",
       "                        <td id=\"T_66a47512_a1ff_11ea_bd39_c8348e295c0erow1_col2\" class=\"data row1 col2\" >$50.76</td>\n",
       "            </tr>\n",
       "            <tr>\n",
       "                        <th id=\"T_66a47512_a1ff_11ea_bd39_c8348e295c0elevel0_row2\" class=\"row_heading level0 row2\" >82</th>\n",
       "                        <th id=\"T_66a47512_a1ff_11ea_bd39_c8348e295c0elevel1_row2\" class=\"row_heading level1 row2\" >Nirvana</th>\n",
       "                        <td id=\"T_66a47512_a1ff_11ea_bd39_c8348e295c0erow2_col0\" class=\"data row2 col0\" >9</td>\n",
       "                        <td id=\"T_66a47512_a1ff_11ea_bd39_c8348e295c0erow2_col1\" class=\"data row2 col1\" >$4.90</td>\n",
       "                        <td id=\"T_66a47512_a1ff_11ea_bd39_c8348e295c0erow2_col2\" class=\"data row2 col2\" >$44.10</td>\n",
       "            </tr>\n",
       "            <tr>\n",
       "                        <th id=\"T_66a47512_a1ff_11ea_bd39_c8348e295c0elevel0_row3\" class=\"row_heading level0 row3\" >145</th>\n",
       "                        <th id=\"T_66a47512_a1ff_11ea_bd39_c8348e295c0elevel1_row3\" class=\"row_heading level1 row3\" >Fiery Glass Crusader</th>\n",
       "                        <td id=\"T_66a47512_a1ff_11ea_bd39_c8348e295c0erow3_col0\" class=\"data row3 col0\" >9</td>\n",
       "                        <td id=\"T_66a47512_a1ff_11ea_bd39_c8348e295c0erow3_col1\" class=\"data row3 col1\" >$4.58</td>\n",
       "                        <td id=\"T_66a47512_a1ff_11ea_bd39_c8348e295c0erow3_col2\" class=\"data row3 col2\" >$41.22</td>\n",
       "            </tr>\n",
       "            <tr>\n",
       "                        <th id=\"T_66a47512_a1ff_11ea_bd39_c8348e295c0elevel0_row4\" class=\"row_heading level0 row4\" >103</th>\n",
       "                        <th id=\"T_66a47512_a1ff_11ea_bd39_c8348e295c0elevel1_row4\" class=\"row_heading level1 row4\" >Singed Scalpel</th>\n",
       "                        <td id=\"T_66a47512_a1ff_11ea_bd39_c8348e295c0erow4_col0\" class=\"data row4 col0\" >8</td>\n",
       "                        <td id=\"T_66a47512_a1ff_11ea_bd39_c8348e295c0erow4_col1\" class=\"data row4 col1\" >$4.35</td>\n",
       "                        <td id=\"T_66a47512_a1ff_11ea_bd39_c8348e295c0erow4_col2\" class=\"data row4 col2\" >$34.80</td>\n",
       "            </tr>\n",
       "    </tbody></table>"
      ],
      "text/plain": [
       "<pandas.io.formats.style.Styler at 0x27251787148>"
      ]
     },
     "execution_count": 10,
     "metadata": {},
     "output_type": "execute_result"
    }
   ],
   "source": [
    "#Find the most profitable items, display top 5\n",
    "top5 = printTopItem_df.sort_values([\"Total Value\"], ascending =False).head()\n",
    "top5.style.format({\"Item Price\": \"${:,.2f}\",\n",
    "                   \"Total Value\": \"${:,.2f}\"})\n"
   ]
  },
  {
   "cell_type": "markdown",
   "metadata": {},
   "source": [
    "<h1><b1>Analysis</b></h1>\n",
    "<p>The Heroes of Pymoli game seems to be more geared to the young male demographic. Males make up about 84% of\n",
    "   the users in the game, with its biggest group in the early 20s. They are also the largest spenders in the game, with \n",
    "   the teenage group in second.</p>\n",
    "\n",
    "<p>The most popular items also seem to be the most profitable items, these must be some of the best items in the game \n",
    "   as most people who purchases items seems go for the same items. There is only 1 item that is in the top of popular items\n",
    "   but does not crack the top 5 of Most Profitable items</p>\n",
    "\n",
    "<p>The top spenders dont seem to always be buying the most expensive items, for the most part at the average purchase price \n",
    "   is in the mid 3 dollar range. Even though they are the most popular items, maybe these items are some of more well designed\n",
    "    which and the top spenders have more disposable income to buy better looking items, even if they are not the most powerful.</p>"
   ]
  },
  {
   "cell_type": "code",
   "execution_count": null,
   "metadata": {},
   "outputs": [],
   "source": []
  }
 ],
 "metadata": {
  "kernelspec": {
   "display_name": "Python 3",
   "language": "python",
   "name": "python3"
  },
  "language_info": {
   "codemirror_mode": {
    "name": "ipython",
    "version": 3
   },
   "file_extension": ".py",
   "mimetype": "text/x-python",
   "name": "python",
   "nbconvert_exporter": "python",
   "pygments_lexer": "ipython3",
   "version": "3.7.6"
  }
 },
 "nbformat": 4,
 "nbformat_minor": 4
}
